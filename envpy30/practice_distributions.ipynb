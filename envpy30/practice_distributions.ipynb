{
 "cells": [
  {
   "cell_type": "code",
   "execution_count": 3,
   "metadata": {},
   "outputs": [],
   "source": [
    "import math\n",
    "import matplotlib.pyplot as plt\n",
    "from distributions import *"
   ]
  },
  {
   "cell_type": "code",
   "execution_count": 9,
   "metadata": {},
   "outputs": [
    {
     "name": "stdout",
     "output_type": "stream",
     "text": [
      " Gaussian distribution class for calculating and\n",
      "    visualizing a Gaussian distribution.\n",
      "\n",
      "    Attributes:\n",
      "        mean (float) representing the mean value of the distribution\n",
      "        stdev (float) representing the standard deviation of the distribution\n",
      "        data_list (list of floats) a list of floats extracted from the data file\n",
      "\n",
      "    \n"
     ]
    }
   ],
   "source": [
    "print(Gaussian.__doc__)"
   ]
  },
  {
   "cell_type": "code",
   "execution_count": 10,
   "metadata": {},
   "outputs": [
    {
     "name": "stdout",
     "output_type": "stream",
     "text": [
      " Binomial distribution class for calculating and\n",
      "    visualizing a Binomial distribution.\n",
      "\n",
      "    Attributes:\n",
      "        mean (float) representing the mean value of the distribution\n",
      "        stdev (float) representing the standard deviation of the distribution\n",
      "        data_list (list of floats) a list of floats to be extracted from the data file\n",
      "        p (float) representing the probability of an event occurring\n",
      "        n (int) the total number of trials\n",
      "\n",
      "\n",
      "    TODO: Fill out all TODOs in the functions below\n",
      "\n",
      "    \n"
     ]
    }
   ],
   "source": [
    "print(Binomial.__doc__)"
   ]
  },
  {
   "cell_type": "code",
   "execution_count": 4,
   "metadata": {},
   "outputs": [
    {
     "name": "stdout",
     "output_type": "stream",
     "text": [
      "mean 25, standard deviation 2 \n",
      " mean 0, standard deviation 1\n"
     ]
    }
   ],
   "source": [
    "g_one = Gaussian(25,2)\n",
    "g_two = Gaussian()\n",
    "\n",
    "print(g_one,'\\n',g_two)"
   ]
  },
  {
   "cell_type": "code",
   "execution_count": 5,
   "metadata": {},
   "outputs": [],
   "source": [
    "file_1 = 'numbers.txt'"
   ]
  },
  {
   "cell_type": "code",
   "execution_count": 6,
   "metadata": {},
   "outputs": [],
   "source": [
    "g_one.read_data_file(file_1)"
   ]
  },
  {
   "cell_type": "markdown",
   "metadata": {},
   "source": [
    "Reading file_1 which contains a random distribution of numbers, would make g_one to update it's mean and standard deviation to the file_1 mean and std"
   ]
  },
  {
   "cell_type": "code",
   "execution_count": 7,
   "metadata": {},
   "outputs": [
    {
     "name": "stdout",
     "output_type": "stream",
     "text": [
      "mean 78.0909090909091, standard deviation 92.87459776004906\n"
     ]
    }
   ],
   "source": [
    "print(g_one)"
   ]
  },
  {
   "cell_type": "markdown",
   "metadata": {},
   "source": [
    "<h2><b>Adding Two Gaussian Distributions</b></h2>"
   ]
  },
  {
   "cell_type": "markdown",
   "metadata": {},
   "source": [
    "Two Gaussian distributions can be added. This new mean will be the sum of the means of both distributions. The new stdev is the square-root of the sum of the **variance**($stdev^2$) of the two distributions."
   ]
  },
  {
   "cell_type": "code",
   "execution_count": 8,
   "metadata": {},
   "outputs": [
    {
     "name": "stdout",
     "output_type": "stream",
     "text": [
      "mean 78.0909090909091, standard deviation 92.87998120742117\n"
     ]
    }
   ],
   "source": [
    "g_3 = g_one + g_two\n",
    "print(g_3)"
   ]
  },
  {
   "cell_type": "markdown",
   "metadata": {},
   "source": [
    "<h2><b>Visualizing Gaussian Distributions</b></h2>"
   ]
  },
  {
   "cell_type": "code",
   "execution_count": 13,
   "metadata": {},
   "outputs": [
    {
     "data": {
      "image/png": "[encoded data removed]",
      "text/plain": [
       "<Figure size 432x288 with 1 Axes>"
      ]
     },
     "metadata": {
      "needs_background": "light"
     },
     "output_type": "display_data"
    }
   ],
   "source": [
    "g_one.plot_histogram()"
   ]
  },
  {
   "cell_type": "code",
   "execution_count": 14,
   "metadata": {},
   "outputs": [
    {
     "data": {
      "image/png": "[encoded data removed]",
      "text/plain": [
       "<Figure size 432x288 with 2 Axes>"
      ]
     },
     "metadata": {
      "needs_background": "light"
     },
     "output_type": "display_data"
    },
    {
     "data": {
      "text/plain": [
       "([1.0,\n",
       "  7.58,\n",
       "  14.16,\n",
       "  20.740000000000002,\n",
       "  27.32,\n",
       "  33.9,\n",
       "  40.480000000000004,\n",
       "  47.06,\n",
       "  53.64,\n",
       "  60.22,\n",
       "  66.8,\n",
       "  73.38,\n",
       "  79.96000000000001,\n",
       "  86.54,\n",
       "  93.12,\n",
       "  99.7,\n",
       "  106.28,\n",
       "  112.86,\n",
       "  119.44,\n",
       "  126.02,\n",
       "  132.6,\n",
       "  139.18,\n",
       "  145.76,\n",
       "  152.34,\n",
       "  158.92000000000002,\n",
       "  165.5,\n",
       "  172.08,\n",
       "  178.66,\n",
       "  185.24,\n",
       "  191.82,\n",
       "  198.4,\n",
       "  204.98,\n",
       "  211.56,\n",
       "  218.14000000000001,\n",
       "  224.72,\n",
       "  231.3,\n",
       "  237.88,\n",
       "  244.46,\n",
       "  251.04,\n",
       "  257.62,\n",
       "  264.2,\n",
       "  270.78000000000003,\n",
       "  277.36,\n",
       "  283.94,\n",
       "  290.52,\n",
       "  297.1,\n",
       "  303.68,\n",
       "  310.26,\n",
       "  316.84000000000003,\n",
       "  323.42],\n",
       " [0.0030436941280150395,\n",
       "  0.0032199635775976665,\n",
       "  0.003389385629106679,\n",
       "  0.0035498588092989685,\n",
       "  0.0036993144412822716,\n",
       "  0.0038357605437130374,\n",
       "  0.003957325730527453,\n",
       "  0.004062301768846044,\n",
       "  0.004149183447609647,\n",
       "  0.004216704458941581,\n",
       "  0.004263868097796145,\n",
       "  0.004289971740008139,\n",
       "  0.004294624258609417,\n",
       "  0.004277755775037969,\n",
       "  0.0042396194054553134,\n",
       "  0.004180784941175556,\n",
       "  0.004102124683731816,\n",
       "  0.004004791926750454,\n",
       "  0.0038901928264981145,\n",
       "  0.003759952619833299,\n",
       "  0.003615877323227138,\n",
       "  0.0034599121726495113,\n",
       "  0.003294098137140098,\n",
       "  0.003120527857220398,\n",
       "  0.002941302324101445,\n",
       "  0.002758489530620572,\n",
       "  0.002574086195982893,\n",
       "  0.002389983501515617,\n",
       "  0.002207937582926008,\n",
       "  0.0020295453159204953,\n",
       "  0.001856225716626904,\n",
       "  0.0016892070658496405,\n",
       "  0.0015295196657229566,\n",
       "  0.001377993956504496,\n",
       "  0.0012352635662074894,\n",
       "  0.0011017727408934497,\n",
       "  0.000977787511300198,\n",
       "  0.0008634098928327342,\n",
       "  0.0007585943899081439,\n",
       "  0.0006631660798856831,\n",
       "  0.0005768395828224327,\n",
       "  0.0004992382767035347,\n",
       "  0.0004299131886951978,\n",
       "  0.0003683610762264406,\n",
       "  0.0003140413022577166,\n",
       "  0.00026639120219446516,\n",
       "  0.00022483973132287702,\n",
       "  0.00018881926781767698,\n",
       "  0.00015777552448225903,\n",
       "  0.0001311755903990334])"
      ]
     },
     "execution_count": 14,
     "metadata": {},
     "output_type": "execute_result"
    }
   ],
   "source": [
    "g_one.plot_histogram_pdf()"
   ]
  },
  {
   "cell_type": "code",
   "execution_count": null,
   "metadata": {},
   "outputs": [],
   "source": []
  }
 ],
 "metadata": {
  "kernelspec": {
   "display_name": "Python 3",
   "language": "python",
   "name": "python3"
  },
  "language_info": {
   "codemirror_mode": {
    "name": "ipython",
    "version": 3
   },
   "file_extension": ".py",
   "mimetype": "text/x-python",
   "name": "python",
   "nbconvert_exporter": "python",
   "pygments_lexer": "ipython3",
   "version": "3.7.0"
  }
 },
 "nbformat": 4,
 "nbformat_minor": 1
}
